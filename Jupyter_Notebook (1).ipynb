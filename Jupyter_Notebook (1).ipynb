{
 "cells": [
  {
   "cell_type": "markdown",
   "metadata": {},
   "source": [
    "<center>\n",
    "    <img src=\"https://cf-courses-data.s3.us.cloud-object-storage.appdomain.cloud/IBMDeveloperSkillsNetwork-DS0105EN-SkillsNetwork/labs/Module2/images/SN_web_lightmode.png\" width=\"300\" alt=\"cognitiveclass.ai logo\">\n",
    "</center>\n"
   ]
  },
  {
   "cell_type": "markdown",
   "metadata": {},
   "source": [
    "# My Jupyter Notebook on IBM Watson Studio"
   ]
  },
  {
   "cell_type": "markdown",
   "metadata": {},
   "source": [
    "**Dennis**\n",
    "\n",
    "Data Analyst"
   ]
  },
  {
   "cell_type": "markdown",
   "metadata": {},
   "source": [
    "I am interested in data science because I like working with data and numbers and getting something from them. What I get from them doesn't really matter in the long run, as long as I found enjoyment in working with the data and gaining a better understanding of what exactly I was working with. I also really enjoy coding so that's a big plus too."
   ]
  },
  {
   "cell_type": "markdown",
   "metadata": {},
   "source": [
    "### The code below was the first big \"project\" that I did when I was first learning Python and it's uses. It prints out the number that would be there in the fibonacci sequence. Not sure if that's the best way to describe it, but that's basically what it does."
   ]
  },
  {
   "cell_type": "code",
   "execution_count": 4,
   "metadata": {},
   "outputs": [
    {
     "name": "stdout",
     "output_type": "stream",
     "text": [
      "610\n"
     ]
    }
   ],
   "source": [
    "def fibonacci(n):\n",
    "    if n in {0, 1}:\n",
    "        return n\n",
    "    return fibonacci(n-1) + fibonacci(n-2)\n",
    "\n",
    "print(fibonacci(15))"
   ]
  },
  {
   "cell_type": "markdown",
   "metadata": {},
   "source": [
    "* Bullet 1\n",
    "* Bullet 2\n",
    "* Bullet 3\n",
    "* Gotta write something that isn't bullet. Yay, creativity!\n",
    "\n",
    "1. Numbered list time!\n",
    "2. Woohoo it's working!\n",
    "3. Wonder what I should do next.\n",
    "4. Let's do a table.\n",
    "\n",
    "<table>\n",
    "    <thead>\n",
    "        <tr>\n",
    "            <th>Header 1</th>\n",
    "            <th>Header 2</th>\n",
    "            <th>Third Header</th>\n",
    "        </tr>\n",
    "    </thead>\n",
    "    <tbody>\n",
    "        <tr>\n",
    "            <td>See what I did with the headers?</td>\n",
    "            <td>Bet ya didn't see that coming.</td>\n",
    "            <td>Yeah I know creativity and all that fun stuff</td>\n",
    "        </tr>\n",
    "        <tr>\n",
    "            <td>Okay well</td>\n",
    "            <td>Not sure what to say now</td>\n",
    "            <td>How's your day going?</td>\n",
    "        </tr>\n",
    "        <tr>\n",
    "            <td>Mine is going pretty great</td>\n",
    "            <td>How'd you like this module?</td>\n",
    "            <td>I thought it was pretty cool</td>\n",
    "        </tr>\n",
    "    </tbody>\n",
    "</table>"
   ]
  }
 ],
 "metadata": {
  "kernelspec": {
   "display_name": "Python",
   "language": "python",
   "name": "conda-env-python-py"
  },
  "language_info": {
   "codemirror_mode": {
    "name": "ipython",
    "version": 3
   },
   "file_extension": ".py",
   "mimetype": "text/x-python",
   "name": "python",
   "nbconvert_exporter": "python",
   "pygments_lexer": "ipython3",
   "version": "3.7.12"
  }
 },
 "nbformat": 4,
 "nbformat_minor": 4
}
